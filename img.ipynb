{
 "cells": [
  {
   "cell_type": "code",
   "execution_count": null,
   "id": "e653d17b",
   "metadata": {
    "vscode": {
     "languageId": "plaintext"
    }
   },
   "outputs": [],
   "source": [
    "import torch\n",
    "from diffusers import StableDiffusionXLPipeline, StableDiffusionXLImg2ImgPipeline\n",
    "from PIL import Image\n",
    "import os\n",
    "from datetime import datetime\n",
    "\n",
    "# Use GPU if available\n",
    "device = \"cuda\" if torch.cuda.is_available() else \"cpu\"\n",
    "torch_dtype = torch.float16 if device == \"cuda\" else torch.float32\n",
    "\n",
    "# Load latest SDXL model\n",
    "model_id = \"stabilityai/stable-diffusion-xl-base-1.0\"\n",
    "\n",
    "# Load Text-to-Image pipeline\n",
    "text2img_pipeline = StableDiffusionXLPipeline.from_pretrained(\n",
    "    model_id,\n",
    "    torch_dtype=torch_dtype,\n",
    "    use_safetensors=True,\n",
    "    variant=\"fp16\" if device == \"cuda\" else None\n",
    ").to(device)\n",
    "\n",
    "# Load Image-to-Image pipeline\n",
    "img2img_pipeline = StableDiffusionXLImg2ImgPipeline.from_pretrained(\n",
    "    model_id,\n",
    "    torch_dtype=torch_dtype,\n",
    "    use_safetensors=True,\n",
    "    variant=\"fp16\" if device == \"cuda\" else None\n",
    ").to(device)\n",
    "\n",
    "# Ensure output directory exists\n",
    "output_dir = \"generated_images\"\n",
    "os.makedirs(output_dir, exist_ok=True)\n",
    "\n",
    "# Prompt user input\n",
    "mode = input(\"Choose mode: (1) Text-to-Image  (2) Image-to-Image [1/2]: \").strip()\n",
    "\n",
    "if mode == \"1\":\n",
    "    prompt = input(\"Enter your prompt: \")\n",
    "    num_images = int(input(\"How many images to generate? \"))\n",
    "\n",
    "    print(f\"🎨 Generating {num_images} image(s) from text...\")\n",
    "    for i in range(num_images):\n",
    "        result = text2img_pipeline(prompt=prompt).images[0]\n",
    "        timestamp = datetime.now().strftime(\"%Y%m%d_%H%M%S\")\n",
    "        filename = f\"{output_dir}/text2img_{timestamp}_{i+1}.png\"\n",
    "        result.save(filename)\n",
    "        print(f\"✅ Saved: {filename}\")\n",
    "\n",
    "elif mode == \"2\":\n",
    "    image_path = input(\"Enter path to input image: \").strip()\n",
    "    prompt = input(\"Enter your prompt: \")\n",
    "\n",
    "    if not os.path.exists(image_path):\n",
    "        print(\"❌ Image not found. Check the path.\")\n",
    "    else:\n",
    "        init_image = Image.open(image_path).convert(\"RGB\").resize((1024, 1024))\n",
    "        result = img2img_pipeline(prompt=prompt, image=init_image, strength=0.6).images[0]\n",
    "        timestamp = datetime.now().strftime(\"%Y%m%d_%H%M%S\")\n",
    "        filename = f\"{output_dir}/img2img_{timestamp}.png\"\n",
    "        result.save(filename)\n",
    "        print(f\"✅ Image saved: {filename}\")\n",
    "else:\n",
    "    print(\"❌ Invalid mode. Please choose 1 or 2.\")\n",
    "\n",
    "print(\"🎉 Done!\")\n"
   ]
  }
 ],
 "metadata": {
  "language_info": {
   "name": "python"
  }
 },
 "nbformat": 4,
 "nbformat_minor": 5
}
